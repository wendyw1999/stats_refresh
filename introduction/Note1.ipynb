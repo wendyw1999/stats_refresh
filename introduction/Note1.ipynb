{
 "cells": [
  {
   "cell_type": "markdown",
   "metadata": {},
   "source": [
    "# Data\n",
    "1. Anecdotal data (inference based on limited sample size)\n",
    "2. For each problem, identify the research problem, population of interest, sample, and what can we generalize to with the sample\n",
    "\n",
    "## Data Basics\n",
    "1. Data matrices\n",
    "    - each row represents an observation/a case. \n",
    "    - each column represents a variable\n",
    "2. variables\n",
    "    - numerical, quantitative. sensitive to math operations\n",
    "        + continuous, infinetely many values, within a given range. e.g. height, weight\n",
    "        + discrete, only a set of numeric values. e.g. number of cars a household owns. \n",
    "    - qualitative, takes a value from a number of distinctive categories\n",
    "        + ordinal: levels have an inherent ordering to them e.g. star rating\n",
    "        + cardinal: levels have no inheret ordering e.g. country\n",
    "3. relationships between variables\n",
    "    - associated/dependent\n",
    "    - independent\n",
    "4. experiments and observations\n",
    "    - observations: collect data in a way that researchers don't interference with how data is generated\n",
    "    - experiments: randomly assign participants to different treatments\n",
    "    - e.g. Eating breakfast cereals makes girls slimmer. Possible explainations: 1. eating breakfast cereals -> slim, 2. slim--> eating cereals, 3. another confounding variable is responsible for both slim and eating cereals\n",
    "    \n",
    "5. correlation doesn't imply causations\n",
    "    - confounding variables\n",
    "    - observational studies --> only correlation\n",
    "    - experiments --> causation\n",
    "    - causal inference is a type of observational studies that can imply causation\n",
    "6. census vs sample: why we don't sample the entire population\n",
    "    - some individuals are hard to locate and measure\n",
    "    - populations change constantly\n",
    "7. sampling bias\n",
    "    - convenience bias:  individuals who are easily accessible are more likely to be included in the sample. only sample those in your street\n",
    "    - non-response: only include those who respond the survey \n",
    "    - voluntary response: no initial random sample, only take those participants who voluntarily sign up. \n",
    "    - General idea: sample is not representative of the true population. e.g. Presidential election between FDR and Landon in 1936. Only surveyed through telephone, while those who owned a telephone are well above average income level, thus not representative of the overall population. No matter how large the sample size is.\n",
    "8. sampling methods\n",
    "    - simple random sampling: random cases from the population, each case is equally likely to be selected\n",
    "    - stratified sampling: divide population into homogeneous groups, called stratas. Then randomly select samples from each group. E.g. If we want to sample female and male equally likely. We can first divide the total population based on genders into 2 strata. Then sample from each stratum. \n",
    "    - cluster sampling. Divide the total population into heterogeneous clusters. Randomly sample a few clusters. Sample everyone inside the cluster. (2nd most economic) Divide a city into many geographical regions. Then randomly select a few regions. \n",
    "    - multistage: randomly divide the total population into clusters. Randomly select a few clusters, then randomly sample within these clusters.(most economic)\n",
    "    "
   ]
  }
 ],
 "metadata": {
  "kernelspec": {
   "display_name": "R",
   "language": "R",
   "name": "ir"
  },
  "language_info": {
   "codemirror_mode": "r",
   "file_extension": ".r",
   "mimetype": "text/x-r-source",
   "name": "R",
   "pygments_lexer": "r",
   "version": "3.6.3"
  }
 },
 "nbformat": 4,
 "nbformat_minor": 4
}
